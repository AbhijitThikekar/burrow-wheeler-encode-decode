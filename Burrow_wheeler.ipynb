{
 "cells": [
  {
   "cell_type": "code",
   "execution_count": 8,
   "metadata": {},
   "outputs": [],
   "source": [
    "def encode(s):\n",
    "    if len(s)==0:\n",
    "        return s, 0\n",
    "    m = len(s)\n",
    "    lstOfStr=[]\n",
    "    for i in  range(m):\n",
    "        lstOfStr.append(s[i:]+s[:i])\n",
    "    lstOfStr = sorted(lstOfStr)\n",
    "    indexOfStr  = lstOfStr.index(s)\n",
    "    finalString = \"\"\n",
    "    for i in lstOfStr:\n",
    "        finalString = finalString + i[-1]\n",
    "    return finalString, indexOfStr\n",
    "\n",
    "def decode(s,n):\n",
    "    columnFirst = sorted(s)\n",
    "    columnLast= list(s)\n",
    "    checker = list(s)\n",
    "    dic = {}\n",
    "    for i in range(len(columnLast)):\n",
    "        dic[i]= columnLast.index(columnFirst[i])\n",
    "        columnLast[columnLast.index(columnFirst[i])] = \"NULL\"\n",
    "    final = \"\"\n",
    "    while len(final)<len(s):\n",
    "        final = final + checker[dic[n]]\n",
    "        n = dic[n]\n",
    "    return final"
   ]
  },
  {
   "cell_type": "code",
   "execution_count": 9,
   "metadata": {},
   "outputs": [
    {
     "data": {
      "text/plain": [
       "('t rkakbThhjieiai', 2)"
      ]
     },
     "execution_count": 9,
     "metadata": {},
     "output_type": "execute_result"
    }
   ],
   "source": [
    "encode(\"abhijit Thikekar\")\n"
   ]
  },
  {
   "cell_type": "code",
   "execution_count": 10,
   "metadata": {},
   "outputs": [
    {
     "data": {
      "text/plain": [
       "'abhijit Thikekar'"
      ]
     },
     "execution_count": 10,
     "metadata": {},
     "output_type": "execute_result"
    }
   ],
   "source": [
    "decode('t rkakbThhjieiai', 2)"
   ]
  },
  {
   "cell_type": "code",
   "execution_count": null,
   "metadata": {},
   "outputs": [],
   "source": []
  }
 ],
 "metadata": {
  "kernelspec": {
   "display_name": "Python 3",
   "language": "python",
   "name": "python3"
  },
  "language_info": {
   "codemirror_mode": {
    "name": "ipython",
    "version": 3
   },
   "file_extension": ".py",
   "mimetype": "text/x-python",
   "name": "python",
   "nbconvert_exporter": "python",
   "pygments_lexer": "ipython3",
   "version": "3.7.6"
  }
 },
 "nbformat": 4,
 "nbformat_minor": 4
}
